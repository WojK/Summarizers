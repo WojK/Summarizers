{
 "cells": [
  {
   "cell_type": "markdown",
   "id": "24e259c2",
   "metadata": {},
   "source": [
    "https://web.eecs.umich.edu/~mihalcea/papers/mihalcea.emnlp04.pdf"
   ]
  },
  {
   "cell_type": "code",
   "execution_count": 1,
   "id": "ff5ccfa7",
   "metadata": {},
   "outputs": [],
   "source": [
    "import re\n",
    "import string\n",
    "import nltk\n",
    "import numpy as np\n",
    "from nltk.corpus import stopwords\n",
    "from string import punctuation\n",
    "from nltk.tokenize import word_tokenize\n",
    "from nltk.stem import PorterStemmer\n",
    "from termcolor import colored\n",
    "from scipy.spatial.distance import cosine\n",
    "import networkx as nx"
   ]
  },
  {
   "cell_type": "code",
   "execution_count": 2,
   "id": "3ae925e6",
   "metadata": {},
   "outputs": [
    {
     "name": "stderr",
     "output_type": "stream",
     "text": [
      "[nltk_data] Downloading package punkt to /Users/admin/nltk_data...\n",
      "[nltk_data]   Package punkt is already up-to-date!\n",
      "[nltk_data] Downloading package stopwords to /Users/admin/nltk_data...\n",
      "[nltk_data]   Package stopwords is already up-to-date!\n"
     ]
    },
    {
     "data": {
      "text/plain": [
       "True"
      ]
     },
     "execution_count": 2,
     "metadata": {},
     "output_type": "execute_result"
    }
   ],
   "source": [
    "nltk.download('punkt')\n",
    "nltk.download('stopwords')"
   ]
  },
  {
   "cell_type": "code",
   "execution_count": 3,
   "id": "091ae71b",
   "metadata": {},
   "outputs": [],
   "source": [
    "text = \"\"\"Poland, officially the Republic of Poland, is a country in Central Europe. It is divided into 16 administrative provinces called voivodeships, covering an area of 313,931 km2 (121,209 sq mi). Poland has a population of 38 million and is the fifth-most populous member state of the European Union. Warsaw is the nation's capital and largest metropolis. Other major cities include Kraków, Gdańsk, Wrocław, Katowice, Łódź, Poznań, Szczecin and Lublin.\n",
    "\n",
    "Poland has a temperate transitional climate and its territory traverses the Central European Plain, extending from Baltic Sea in the north to Sudeten and Carpathian Mountains in the south. The longest Polish river is the Vistula, and Poland's highest point is Mount Rysy, situated in the Tatra mountain range of the Carpathians. The country is bordered by Lithuania and Russia to the northeast,[c] Belarus and Ukraine to the east, Slovakia and the Czech Republic to the south, and Germany to the west. It also shares maritime boundaries with Denmark and Sweden.\n",
    "\n",
    "The history of human activity on Polish soil dates to c. 10,000 BC. Culturally diverse throughout late antiquity, the region became inhabited by tribal Polans who gave Poland its name in the early medieval period. The establishment of statehood in 966 coincided with a pagan ruler of the Polans converting to Christianity under the auspices of the Roman Church. The Kingdom of Poland emerged in 1025 and in 1569 cemented its longstanding association with Lithuania, thus forming the Polish–Lithuanian Commonwealth. It was one of the great powers of Europe at the time, with a uniquely liberal political system that adopted Europe's first modern constitution in 1791.\n",
    "\n",
    "With the passing of a prosperous Polish Golden Age, the country was partitioned by neighbouring states at the end of the 18th century and regained its independence in 1918 as the Second Polish Republic. In September 1939, the invasion of Poland by Germany and the Soviet Union marked the beginning of World War II, which resulted in the Holocaust and millions of Polish casualties. As a member of the Communist Bloc in the global Cold War, the Polish People's Republic was a founding signatory of the Warsaw Pact. Through the emergence and contributions of the Solidarity movement, the communist government was dissolved and Poland re-established itself as a democratic state in 1989.\n",
    "\n",
    "Poland is a parliamentary republic, with its bicameral legislature comprising the Sejm and the Senate. It is a developed market and a high income economy. Considered a middle power, Poland has the sixth largest economy in the European Union by GDP (nominal) and the fifth largest by GDP (PPP). It provides a very high standard of living, safety and economic freedom, as well as free university education and a universal health care system. The country has 17 UNESCO World Heritage Sites, 15 of which are cultural. Poland is a founding member state of the United Nations, as well as a member of the World Trade Organization, NATO, and the European Union (including the Schengen Area).\"\"\""
   ]
  },
  {
   "cell_type": "code",
   "execution_count": 4,
   "id": "0cbea208",
   "metadata": {},
   "outputs": [],
   "source": [
    "stop = set(stopwords.words('english'))\n",
    "punctuation = list(punctuation)\n",
    "stop.update(punctuation)"
   ]
  },
  {
   "cell_type": "code",
   "execution_count": 5,
   "id": "36517ee9",
   "metadata": {},
   "outputs": [],
   "source": [
    "def process_and_tokenize(text, stopwords_set):\n",
    "    stem_tokens = []\n",
    "    stemmer = PorterStemmer()\n",
    "    for word in word_tokenize(text.lower()):\n",
    "        if word not in stopwords_set and word.isalpha():\n",
    "            stem_word = stemmer.stem(word)\n",
    "            stem_tokens.append(stem_word)\n",
    "    return stem_tokens"
   ]
  },
  {
   "cell_type": "code",
   "execution_count": 6,
   "id": "94aae736",
   "metadata": {},
   "outputs": [],
   "source": [
    "def cosine_similarity(sent_1_tokenized, sent_2_tokenized):\n",
    "    unique_words = list(set(sent_1_tokenized+sent_2_tokenized))\n",
    "    unique_words_count = len(unique_words)\n",
    "    \n",
    "    vector_1 = [0] * unique_words_count\n",
    "    vector_2 = [0] * unique_words_count\n",
    "    \n",
    "    for t in sent_1_tokenized:\n",
    "        vector_1[unique_words.index(t)] += 1\n",
    "    for t in sent_2_tokenized:\n",
    "        vector_2[unique_words.index(t)] += 1\n",
    "    return 1-cosine(vector_1, vector_2)"
   ]
  },
  {
   "cell_type": "code",
   "execution_count": 7,
   "id": "b590181a",
   "metadata": {},
   "outputs": [],
   "source": [
    "sentences = nltk.sent_tokenize(text)"
   ]
  },
  {
   "cell_type": "code",
   "execution_count": 8,
   "id": "ab4c1c71",
   "metadata": {},
   "outputs": [],
   "source": [
    "s1 = process_and_tokenize(sentences[0], stop)\n",
    "s2 = process_and_tokenize(sentences[1], stop)"
   ]
  },
  {
   "cell_type": "code",
   "execution_count": 9,
   "id": "3f000b2b",
   "metadata": {},
   "outputs": [
    {
     "name": "stdout",
     "output_type": "stream",
     "text": [
      "['poland', 'offici', 'republ', 'poland', 'countri', 'central', 'europ']\n",
      "['divid', 'administr', 'provinc', 'call', 'voivodeship', 'cover', 'area', 'sq', 'mi']\n"
     ]
    }
   ],
   "source": [
    "print(s1)\n",
    "print(s2)"
   ]
  },
  {
   "cell_type": "code",
   "execution_count": 10,
   "id": "419a11c5",
   "metadata": {},
   "outputs": [
    {
     "data": {
      "text/plain": [
       "0.0"
      ]
     },
     "execution_count": 10,
     "metadata": {},
     "output_type": "execute_result"
    }
   ],
   "source": [
    "cosine_similarity(s1, s2)"
   ]
  },
  {
   "cell_type": "code",
   "execution_count": 11,
   "id": "364d5737",
   "metadata": {},
   "outputs": [
    {
     "data": {
      "text/plain": [
       "'Poland, officially the Republic of Poland, is a country in Central Europe.'"
      ]
     },
     "execution_count": 11,
     "metadata": {},
     "output_type": "execute_result"
    }
   ],
   "source": [
    "sentences[0]"
   ]
  },
  {
   "cell_type": "code",
   "execution_count": 12,
   "id": "a5a7b7dc",
   "metadata": {},
   "outputs": [
    {
     "data": {
      "text/plain": [
       "'Poland has a population of 38 million and is the fifth-most populous member state of the European Union.'"
      ]
     },
     "execution_count": 12,
     "metadata": {},
     "output_type": "execute_result"
    }
   ],
   "source": [
    "sentences[2]"
   ]
  },
  {
   "cell_type": "code",
   "execution_count": 13,
   "id": "eae6866c",
   "metadata": {},
   "outputs": [
    {
     "name": "stdout",
     "output_type": "stream",
     "text": [
      "['poland', 'offici', 'republ', 'poland', 'countri', 'central', 'europ']\n"
     ]
    }
   ],
   "source": [
    "s1 = process_and_tokenize(sentences[0], stop)\n",
    "print(s1)"
   ]
  },
  {
   "cell_type": "code",
   "execution_count": 14,
   "id": "71227a84",
   "metadata": {},
   "outputs": [
    {
     "name": "stdout",
     "output_type": "stream",
     "text": [
      "['poland', 'popul', 'million', 'popul', 'member', 'state', 'european', 'union']\n"
     ]
    }
   ],
   "source": [
    "s2 = process_and_tokenize(sentences[2], stop)\n",
    "print(s2)"
   ]
  },
  {
   "cell_type": "code",
   "execution_count": 15,
   "id": "a8828498",
   "metadata": {},
   "outputs": [
    {
     "data": {
      "text/plain": [
       "0.21081851067789192"
      ]
     },
     "execution_count": 15,
     "metadata": {},
     "output_type": "execute_result"
    }
   ],
   "source": [
    "cosine_similarity(s1, s2)"
   ]
  },
  {
   "cell_type": "code",
   "execution_count": 16,
   "id": "d0c45b45",
   "metadata": {},
   "outputs": [
    {
     "data": {
      "text/plain": [
       "0.816496580927726"
      ]
     },
     "execution_count": 16,
     "metadata": {},
     "output_type": "execute_result"
    }
   ],
   "source": [
    "s1 = \"very similar sentence\"\n",
    "s2 = \"similar sentence to previous\"\n",
    "cosine_similarity(process_and_tokenize(s1, stop), process_and_tokenize(s2,stop))"
   ]
  },
  {
   "cell_type": "code",
   "execution_count": 17,
   "id": "f527bb5b",
   "metadata": {},
   "outputs": [],
   "source": [
    "def create_numpy_matrix(sentences_tokenized):\n",
    "    n = len(sentences_tokenized)\n",
    "    matrix = np.zeros((n,n))\n",
    "    for row in range(n):\n",
    "        for col in range(n):\n",
    "            if row == col:\n",
    "                continue\n",
    "            matrix[row][col] = cosine_similarity(sentences_tokenized[row], sentences_tokenized[col])\n",
    "    return matrix"
   ]
  },
  {
   "cell_type": "code",
   "execution_count": 18,
   "id": "cebb5fa3",
   "metadata": {},
   "outputs": [],
   "source": [
    "sent_tokenized = [process_and_tokenize(s, stop) for s in nltk.sent_tokenize(text)]"
   ]
  },
  {
   "cell_type": "code",
   "execution_count": 19,
   "id": "5b6d6b04",
   "metadata": {},
   "outputs": [
    {
     "name": "stdout",
     "output_type": "stream",
     "text": [
      "[['poland', 'offici', 'republ', 'poland', 'countri', 'central', 'europ'], ['divid', 'administr', 'provinc', 'call', 'voivodeship', 'cover', 'area', 'sq', 'mi'], ['poland', 'popul', 'million', 'popul', 'member', 'state', 'european', 'union'], ['warsaw', 'nation', 'capit', 'largest', 'metropoli'], ['major', 'citi', 'includ', 'kraków', 'gdańsk', 'wrocław', 'katowic', 'łódź', 'poznań', 'szczecin', 'lublin'], ['poland', 'temper', 'transit', 'climat', 'territori', 'travers', 'central', 'european', 'plain', 'extend', 'baltic', 'sea', 'north', 'sudeten', 'carpathian', 'mountain', 'south'], ['longest', 'polish', 'river', 'vistula', 'poland', 'highest', 'point', 'mount', 'rysi', 'situat', 'tatra', 'mountain', 'rang', 'carpathian'], ['countri', 'border', 'lithuania', 'russia', 'northeast', 'c', 'belaru', 'ukrain', 'east', 'slovakia', 'czech', 'republ', 'south', 'germani', 'west'], ['also', 'share', 'maritim', 'boundari', 'denmark', 'sweden'], ['histori', 'human', 'activ', 'polish', 'soil', 'date', 'bc'], ['cultur', 'divers', 'throughout', 'late', 'antiqu', 'region', 'becam', 'inhabit', 'tribal', 'polan', 'gave', 'poland', 'name', 'earli', 'mediev', 'period'], ['establish', 'statehood', 'coincid', 'pagan', 'ruler', 'polan', 'convert', 'christian', 'auspic', 'roman', 'church'], ['kingdom', 'poland', 'emerg', 'cement', 'longstand', 'associ', 'lithuania', 'thu', 'form', 'commonwealth'], ['one', 'great', 'power', 'europ', 'time', 'uniqu', 'liber', 'polit', 'system', 'adopt', 'europ', 'first', 'modern', 'constitut'], ['pass', 'prosper', 'polish', 'golden', 'age', 'countri', 'partit', 'neighbour', 'state', 'end', 'centuri', 'regain', 'independ', 'second', 'polish', 'republ'], ['septemb', 'invas', 'poland', 'germani', 'soviet', 'union', 'mark', 'begin', 'world', 'war', 'ii', 'result', 'holocaust', 'million', 'polish', 'casualti'], ['member', 'communist', 'bloc', 'global', 'cold', 'war', 'polish', 'peopl', 'republ', 'found', 'signatori', 'warsaw', 'pact'], ['emerg', 'contribut', 'solidar', 'movement', 'communist', 'govern', 'dissolv', 'poland', 'democrat', 'state'], ['poland', 'parliamentari', 'republ', 'bicamer', 'legislatur', 'compris', 'sejm', 'senat'], ['develop', 'market', 'high', 'incom', 'economi'], ['consid', 'middl', 'power', 'poland', 'sixth', 'largest', 'economi', 'european', 'union', 'gdp', 'nomin', 'fifth', 'largest', 'gdp', 'ppp'], ['provid', 'high', 'standard', 'live', 'safeti', 'econom', 'freedom', 'well', 'free', 'univers', 'educ', 'univers', 'health', 'care', 'system'], ['countri', 'unesco', 'world', 'heritag', 'site', 'cultur'], ['poland', 'found', 'member', 'state', 'unit', 'nation', 'well', 'member', 'world', 'trade', 'organ', 'nato', 'european', 'union', 'includ', 'schengen', 'area']]\n"
     ]
    }
   ],
   "source": [
    "print(sent_tokenized)"
   ]
  },
  {
   "cell_type": "code",
   "execution_count": 20,
   "id": "30a6a5af",
   "metadata": {},
   "outputs": [],
   "source": [
    "matrix = create_numpy_matrix(sent_tokenized)"
   ]
  },
  {
   "cell_type": "code",
   "execution_count": 21,
   "id": "fd7b165b",
   "metadata": {},
   "outputs": [
    {
     "data": {
      "text/plain": [
       "(24, 24)"
      ]
     },
     "execution_count": 21,
     "metadata": {},
     "output_type": "execute_result"
    }
   ],
   "source": [
    "matrix.shape"
   ]
  },
  {
   "cell_type": "code",
   "execution_count": 22,
   "id": "1ae22a56",
   "metadata": {},
   "outputs": [
    {
     "data": {
      "text/plain": [
       "array([[0.        , 0.        , 0.21081851, 0.        , 0.        ,\n",
       "        0.24253563, 0.17817416, 0.17213259, 0.        , 0.        ,\n",
       "        0.16666667, 0.        , 0.21081851, 0.16666667, 0.15713484,\n",
       "        0.16666667, 0.09245003, 0.21081851, 0.35355339, 0.        ,\n",
       "        0.15294382, 0.        , 0.13608276, 0.15294382],\n",
       "       [0.        , 0.        , 0.        , 0.        , 0.        ,\n",
       "        0.        , 0.        , 0.        , 0.        , 0.        ,\n",
       "        0.        , 0.        , 0.        , 0.        , 0.        ,\n",
       "        0.        , 0.        , 0.        , 0.        , 0.        ,\n",
       "        0.        , 0.        , 0.        , 0.07647191],\n",
       "       [0.21081851, 0.        , 0.        , 0.        , 0.        ,\n",
       "        0.153393  , 0.08451543, 0.        , 0.        , 0.        ,\n",
       "        0.07905694, 0.        , 0.1       , 0.        , 0.0745356 ,\n",
       "        0.23717082, 0.0877058 , 0.2       , 0.1118034 , 0.        ,\n",
       "        0.21764288, 0.        , 0.        , 0.43528575],\n",
       "       [0.        , 0.        , 0.        , 0.        , 0.        ,\n",
       "        0.        , 0.        , 0.        , 0.        , 0.        ,\n",
       "        0.        , 0.        , 0.        , 0.        , 0.        ,\n",
       "        0.        , 0.12403473, 0.        , 0.        , 0.        ,\n",
       "        0.20519567, 0.        , 0.        , 0.10259784],\n",
       "       [0.        , 0.        , 0.        , 0.        , 0.        ,\n",
       "        0.        , 0.        , 0.        , 0.        , 0.        ,\n",
       "        0.        , 0.        , 0.        , 0.        , 0.        ,\n",
       "        0.        , 0.        , 0.        , 0.        , 0.        ,\n",
       "        0.        , 0.        , 0.        , 0.06917145],\n",
       "       [0.24253563, 0.        , 0.153393  , 0.        , 0.        ,\n",
       "        0.        , 0.19446112, 0.06262243, 0.        , 0.        ,\n",
       "        0.06063391, 0.        , 0.0766965 , 0.        , 0.        ,\n",
       "        0.06063391, 0.        , 0.0766965 , 0.08574929, 0.        ,\n",
       "        0.11128298, 0.        , 0.        , 0.11128298],\n",
       "       [0.17817416, 0.        , 0.08451543, 0.        , 0.        ,\n",
       "        0.19446112, 0.        , 0.        , 0.        , 0.10101525,\n",
       "        0.06681531, 0.        , 0.08451543, 0.        , 0.12598816,\n",
       "        0.13363062, 0.07412493, 0.08451543, 0.09449112, 0.        ,\n",
       "        0.06131393, 0.        , 0.        , 0.06131393],\n",
       "       [0.17213259, 0.        , 0.        , 0.        , 0.        ,\n",
       "        0.06262243, 0.        , 0.        , 0.        , 0.        ,\n",
       "        0.        , 0.        , 0.08164966, 0.        , 0.12171612,\n",
       "        0.06454972, 0.07161149, 0.        , 0.09128709, 0.        ,\n",
       "        0.        , 0.        , 0.10540926, 0.        ],\n",
       "       [0.        , 0.        , 0.        , 0.        , 0.        ,\n",
       "        0.        , 0.        , 0.        , 0.        , 0.        ,\n",
       "        0.        , 0.        , 0.        , 0.        , 0.        ,\n",
       "        0.        , 0.        , 0.        , 0.        , 0.        ,\n",
       "        0.        , 0.        , 0.        , 0.        ],\n",
       "       [0.        , 0.        , 0.        , 0.        , 0.        ,\n",
       "        0.        , 0.10101525, 0.        , 0.        , 0.        ,\n",
       "        0.        , 0.        , 0.        , 0.        , 0.17817416,\n",
       "        0.09449112, 0.10482848, 0.        , 0.        , 0.        ,\n",
       "        0.        , 0.        , 0.        , 0.        ],\n",
       "       [0.16666667, 0.        , 0.07905694, 0.        , 0.        ,\n",
       "        0.06063391, 0.06681531, 0.        , 0.        , 0.        ,\n",
       "        0.        , 0.07537784, 0.07905694, 0.        , 0.        ,\n",
       "        0.0625    , 0.        , 0.07905694, 0.08838835, 0.        ,\n",
       "        0.05735393, 0.        , 0.10206207, 0.05735393],\n",
       "       [0.        , 0.        , 0.        , 0.        , 0.        ,\n",
       "        0.        , 0.        , 0.        , 0.        , 0.        ,\n",
       "        0.07537784, 0.        , 0.        , 0.        , 0.        ,\n",
       "        0.        , 0.        , 0.        , 0.        , 0.        ,\n",
       "        0.        , 0.        , 0.        , 0.        ],\n",
       "       [0.21081851, 0.        , 0.1       , 0.        , 0.        ,\n",
       "        0.0766965 , 0.08451543, 0.08164966, 0.        , 0.        ,\n",
       "        0.07905694, 0.        , 0.        , 0.        , 0.        ,\n",
       "        0.07905694, 0.        , 0.2       , 0.1118034 , 0.        ,\n",
       "        0.07254763, 0.        , 0.        , 0.07254763],\n",
       "       [0.16666667, 0.        , 0.        , 0.        , 0.        ,\n",
       "        0.        , 0.        , 0.        , 0.        , 0.        ,\n",
       "        0.        , 0.        , 0.        , 0.        , 0.        ,\n",
       "        0.        , 0.        , 0.        , 0.        , 0.        ,\n",
       "        0.05735393, 0.06063391, 0.        , 0.        ],\n",
       "       [0.15713484, 0.        , 0.0745356 , 0.        , 0.        ,\n",
       "        0.        , 0.12598816, 0.12171612, 0.        , 0.17817416,\n",
       "        0.        , 0.        , 0.        , 0.        , 0.        ,\n",
       "        0.11785113, 0.19611614, 0.0745356 , 0.08333333, 0.        ,\n",
       "        0.        , 0.        , 0.09622504, 0.05407381],\n",
       "       [0.16666667, 0.        , 0.23717082, 0.        , 0.        ,\n",
       "        0.06063391, 0.13363062, 0.06454972, 0.        , 0.09449112,\n",
       "        0.0625    , 0.        , 0.07905694, 0.        , 0.11785113,\n",
       "        0.        , 0.13867505, 0.07905694, 0.08838835, 0.        ,\n",
       "        0.11470787, 0.        , 0.10206207, 0.1720618 ],\n",
       "       [0.09245003, 0.        , 0.0877058 , 0.12403473, 0.        ,\n",
       "        0.        , 0.07412493, 0.07161149, 0.        , 0.10482848,\n",
       "        0.        , 0.        , 0.        , 0.        , 0.19611614,\n",
       "        0.13867505, 0.        , 0.0877058 , 0.09805807, 0.        ,\n",
       "        0.        , 0.        , 0.        , 0.19088543],\n",
       "       [0.21081851, 0.        , 0.2       , 0.        , 0.        ,\n",
       "        0.0766965 , 0.08451543, 0.        , 0.        , 0.        ,\n",
       "        0.07905694, 0.        , 0.2       , 0.        , 0.0745356 ,\n",
       "        0.07905694, 0.0877058 , 0.        , 0.1118034 , 0.        ,\n",
       "        0.07254763, 0.        , 0.        , 0.14509525],\n",
       "       [0.35355339, 0.        , 0.1118034 , 0.        , 0.        ,\n",
       "        0.08574929, 0.09449112, 0.09128709, 0.        , 0.        ,\n",
       "        0.08838835, 0.        , 0.1118034 , 0.        , 0.08333333,\n",
       "        0.08838835, 0.09805807, 0.1118034 , 0.        , 0.        ,\n",
       "        0.08111071, 0.        , 0.        , 0.08111071],\n",
       "       [0.        , 0.        , 0.        , 0.        , 0.        ,\n",
       "        0.        , 0.        , 0.        , 0.        , 0.        ,\n",
       "        0.        , 0.        , 0.        , 0.        , 0.        ,\n",
       "        0.        , 0.        , 0.        , 0.        , 0.        ,\n",
       "        0.10259784, 0.10846523, 0.        , 0.        ],\n",
       "       [0.15294382, 0.        , 0.21764288, 0.20519567, 0.        ,\n",
       "        0.11128298, 0.06131393, 0.        , 0.        , 0.        ,\n",
       "        0.05735393, 0.        , 0.07254763, 0.05735393, 0.        ,\n",
       "        0.11470787, 0.        , 0.07254763, 0.08111071, 0.10259784,\n",
       "        0.        , 0.        , 0.        , 0.15789474],\n",
       "       [0.        , 0.        , 0.        , 0.        , 0.        ,\n",
       "        0.        , 0.        , 0.        , 0.        , 0.        ,\n",
       "        0.        , 0.        , 0.        , 0.06063391, 0.        ,\n",
       "        0.        , 0.        , 0.        , 0.        , 0.10846523,\n",
       "        0.        , 0.        , 0.        , 0.05564149],\n",
       "       [0.13608276, 0.        , 0.        , 0.        , 0.        ,\n",
       "        0.        , 0.        , 0.10540926, 0.        , 0.        ,\n",
       "        0.10206207, 0.        , 0.        , 0.        , 0.09622504,\n",
       "        0.10206207, 0.        , 0.        , 0.        , 0.        ,\n",
       "        0.        , 0.        , 0.        , 0.09365858],\n",
       "       [0.15294382, 0.07647191, 0.43528575, 0.10259784, 0.06917145,\n",
       "        0.11128298, 0.06131393, 0.        , 0.        , 0.        ,\n",
       "        0.05735393, 0.        , 0.07254763, 0.        , 0.05407381,\n",
       "        0.1720618 , 0.19088543, 0.14509525, 0.08111071, 0.        ,\n",
       "        0.15789474, 0.05564149, 0.09365858, 0.        ]])"
      ]
     },
     "execution_count": 22,
     "metadata": {},
     "output_type": "execute_result"
    }
   ],
   "source": [
    "matrix"
   ]
  },
  {
   "cell_type": "code",
   "execution_count": 23,
   "id": "28b3dab8",
   "metadata": {},
   "outputs": [],
   "source": [
    "def page_rank(numpy_matrix):\n",
    "    graph = nx.from_numpy_array(numpy_matrix)\n",
    "    ranking = nx.pagerank(graph)\n",
    "    sorted_indexes = [k for k,v in sorted(ranking.items(), key= lambda item: item[1], reverse=True)]\n",
    "    return sorted_indexes"
   ]
  },
  {
   "cell_type": "code",
   "execution_count": 24,
   "id": "b819cb47",
   "metadata": {},
   "outputs": [
    {
     "name": "stdout",
     "output_type": "stream",
     "text": [
      "[0, 23, 2, 15, 20, 18, 17, 6, 16, 14, 5, 12, 10, 7, 22, 9, 3, 21, 13, 19, 11, 1, 4, 8]\n"
     ]
    }
   ],
   "source": [
    "print(page_rank(matrix))"
   ]
  },
  {
   "cell_type": "code",
   "execution_count": 25,
   "id": "987e79c1",
   "metadata": {},
   "outputs": [],
   "source": [
    "def summarize(text, stopwords_set, percent_of_most_important_sentences):\n",
    "    sent_tokenized = [process_and_tokenize(s, stopwords_set) for s in nltk.sent_tokenize(text)]\n",
    "    matrix = create_numpy_matrix(sent_tokenized)\n",
    "    ranking = page_rank(matrix)\n",
    "    n = int(percent_of_most_important_sentences/100 * len(sent_tokenized))\n",
    "    most_import_sent_indexes = ranking[0:n]\n",
    "    return most_import_sent_indexes"
   ]
  },
  {
   "cell_type": "code",
   "execution_count": 26,
   "id": "44659c34",
   "metadata": {},
   "outputs": [],
   "source": [
    "ids = summarize(text, stop, 50)"
   ]
  },
  {
   "cell_type": "code",
   "execution_count": 27,
   "id": "9b4ad1bf",
   "metadata": {},
   "outputs": [
    {
     "name": "stdout",
     "output_type": "stream",
     "text": [
      "\u001b[33mPoland, officially the Republic of Poland, is a country in Central Europe.\u001b[0m\n",
      "\u001b[30mIt is divided into 16 administrative provinces called voivodeships, covering an area of 313,931 km2 (121,209 sq mi).\u001b[0m\n",
      "\u001b[33mPoland has a population of 38 million and is the fifth-most populous member state of the European Union.\u001b[0m\n",
      "\u001b[30mWarsaw is the nation's capital and largest metropolis.\u001b[0m\n",
      "\u001b[30mOther major cities include Kraków, Gdańsk, Wrocław, Katowice, Łódź, Poznań, Szczecin and Lublin.\u001b[0m\n",
      "\u001b[33mPoland has a temperate transitional climate and its territory traverses the Central European Plain, extending from Baltic Sea in the north to Sudeten and Carpathian Mountains in the south.\u001b[0m\n",
      "\u001b[33mThe longest Polish river is the Vistula, and Poland's highest point is Mount Rysy, situated in the Tatra mountain range of the Carpathians.\u001b[0m\n",
      "\u001b[30mThe country is bordered by Lithuania and Russia to the northeast,[c] Belarus and Ukraine to the east, Slovakia and the Czech Republic to the south, and Germany to the west.\u001b[0m\n",
      "\u001b[30mIt also shares maritime boundaries with Denmark and Sweden.\u001b[0m\n",
      "\u001b[30mThe history of human activity on Polish soil dates to c. 10,000 BC.\u001b[0m\n",
      "\u001b[30mCulturally diverse throughout late antiquity, the region became inhabited by tribal Polans who gave Poland its name in the early medieval period.\u001b[0m\n",
      "\u001b[30mThe establishment of statehood in 966 coincided with a pagan ruler of the Polans converting to Christianity under the auspices of the Roman Church.\u001b[0m\n",
      "\u001b[33mThe Kingdom of Poland emerged in 1025 and in 1569 cemented its longstanding association with Lithuania, thus forming the Polish–Lithuanian Commonwealth.\u001b[0m\n",
      "\u001b[30mIt was one of the great powers of Europe at the time, with a uniquely liberal political system that adopted Europe's first modern constitution in 1791.\u001b[0m\n",
      "\u001b[33mWith the passing of a prosperous Polish Golden Age, the country was partitioned by neighbouring states at the end of the 18th century and regained its independence in 1918 as the Second Polish Republic.\u001b[0m\n",
      "\u001b[33mIn September 1939, the invasion of Poland by Germany and the Soviet Union marked the beginning of World War II, which resulted in the Holocaust and millions of Polish casualties.\u001b[0m\n",
      "\u001b[33mAs a member of the Communist Bloc in the global Cold War, the Polish People's Republic was a founding signatory of the Warsaw Pact.\u001b[0m\n",
      "\u001b[33mThrough the emergence and contributions of the Solidarity movement, the communist government was dissolved and Poland re-established itself as a democratic state in 1989.\u001b[0m\n",
      "\u001b[33mPoland is a parliamentary republic, with its bicameral legislature comprising the Sejm and the Senate.\u001b[0m\n",
      "\u001b[30mIt is a developed market and a high income economy.\u001b[0m\n",
      "\u001b[33mConsidered a middle power, Poland has the sixth largest economy in the European Union by GDP (nominal) and the fifth largest by GDP (PPP).\u001b[0m\n",
      "\u001b[30mIt provides a very high standard of living, safety and economic freedom, as well as free university education and a universal health care system.\u001b[0m\n",
      "\u001b[30mThe country has 17 UNESCO World Heritage Sites, 15 of which are cultural.\u001b[0m\n",
      "\u001b[33mPoland is a founding member state of the United Nations, as well as a member of the World Trade Organization, NATO, and the European Union (including the Schengen Area).\u001b[0m\n"
     ]
    }
   ],
   "source": [
    "i = 0\n",
    "for sent in nltk.sent_tokenize(text):\n",
    "    if i in ids:\n",
    "        print(colored(sent, 'yellow'))\n",
    "    else:\n",
    "        print(colored(sent, 'black'))\n",
    "    i = i + 1"
   ]
  },
  {
   "cell_type": "code",
   "execution_count": null,
   "id": "e5b73274",
   "metadata": {},
   "outputs": [],
   "source": []
  }
 ],
 "metadata": {
  "kernelspec": {
   "display_name": "Python 3 (ipykernel)",
   "language": "python",
   "name": "python3"
  },
  "language_info": {
   "codemirror_mode": {
    "name": "ipython",
    "version": 3
   },
   "file_extension": ".py",
   "mimetype": "text/x-python",
   "name": "python",
   "nbconvert_exporter": "python",
   "pygments_lexer": "ipython3",
   "version": "3.10.12"
  }
 },
 "nbformat": 4,
 "nbformat_minor": 5
}

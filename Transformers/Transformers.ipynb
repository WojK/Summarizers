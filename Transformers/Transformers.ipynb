{
 "cells": [
  {
   "cell_type": "markdown",
   "id": "e9c23d53",
   "metadata": {},
   "source": [
    "pip install transformers \n"
   ]
  },
  {
   "cell_type": "markdown",
   "id": "b5171e67",
   "metadata": {},
   "source": [
    "pip install bert-extractive-summarizer"
   ]
  },
  {
   "cell_type": "markdown",
   "id": "71c09414",
   "metadata": {},
   "source": [
    "pip3 install torch torchvision torchaudio\n"
   ]
  },
  {
   "cell_type": "code",
   "execution_count": 1,
   "id": "f4408c37",
   "metadata": {},
   "outputs": [
    {
     "name": "stderr",
     "output_type": "stream",
     "text": [
      "/Applications/anaconda3/envs/pd_python3_10/lib/python3.10/site-packages/tqdm/auto.py:21: TqdmWarning: IProgress not found. Please update jupyter and ipywidgets. See https://ipywidgets.readthedocs.io/en/stable/user_install.html\n",
      "  from .autonotebook import tqdm as notebook_tqdm\n"
     ]
    }
   ],
   "source": [
    "from summarizer import Summarizer\n",
    "from summarizer import TransformerSummarizer"
   ]
  },
  {
   "cell_type": "code",
   "execution_count": 2,
   "id": "4164a14c",
   "metadata": {},
   "outputs": [],
   "source": [
    "text = \"\"\"Poland,[a] officially the Republic of Poland,[b] is a country in Central Europe. It is divided into 16 administrative provinces called voivodeships, covering an area of 313,931 km2 (121,209 sq mi). Poland has a population of 38 million and is the fifth-most populous member state of the European Union. Warsaw is the nation's capital and largest metropolis. Other major cities include Kraków, Gdańsk, Wrocław, Katowice, Łódź, Poznań, Szczecin and Lublin.\n",
    "\n",
    "Poland has a temperate transitional climate and its territory traverses the Central European Plain, extending from Baltic Sea in the north to Sudeten and Carpathian Mountains in the south. The longest Polish river is the Vistula, and Poland's highest point is Mount Rysy, situated in the Tatra mountain range of the Carpathians. The country is bordered by Lithuania and Russia to the northeast,[c] Belarus and Ukraine to the east, Slovakia and the Czech Republic to the south, and Germany to the west. It also shares maritime boundaries with Denmark and Sweden.\n",
    "\n",
    "The history of human activity on Polish soil dates to c. 10,000 BC. Culturally diverse throughout late antiquity, the region became inhabited by tribal Polans who gave Poland its name in the early medieval period. The establishment of statehood in 966 coincided with a pagan ruler of the Polans converting to Christianity under the auspices of the Roman Church. The Kingdom of Poland emerged in 1025 and in 1569 cemented its longstanding association with Lithuania, thus forming the Polish–Lithuanian Commonwealth. It was one of the great powers of Europe at the time, with a uniquely liberal political system that adopted Europe's first modern constitution in 1791.\n",
    "\n",
    "With the passing of a prosperous Polish Golden Age, the country was partitioned by neighbouring states at the end of the 18th century and regained its independence in 1918 as the Second Polish Republic. In September 1939, the invasion of Poland by Germany and the Soviet Union marked the beginning of World War II, which resulted in the Holocaust and millions of Polish casualties. As a member of the Communist Bloc in the global Cold War, the Polish People's Republic was a founding signatory of the Warsaw Pact. Through the emergence and contributions of the Solidarity movement, the communist government was dissolved and Poland re-established itself as a democratic state in 1989.\n",
    "\n",
    "Poland is a parliamentary republic, with its bicameral legislature comprising the Sejm and the Senate. It is a developed market and a high income economy. Considered a middle power, Poland has the sixth largest economy in the European Union by GDP (nominal) and the fifth largest by GDP (PPP). It provides a very high standard of living, safety and economic freedom, as well as free university education and a universal health care system. The country has 17 UNESCO World Heritage Sites, 15 of which are cultural. Poland is a founding member state of the United Nations, as well as a member of the World Trade Organization, NATO, and the European Union (including the Schengen Area). \"\"\""
   ]
  },
  {
   "cell_type": "code",
   "execution_count": 3,
   "id": "5967944f",
   "metadata": {},
   "outputs": [],
   "source": [
    "bert = Summarizer()"
   ]
  },
  {
   "cell_type": "code",
   "execution_count": 4,
   "id": "841afa2a",
   "metadata": {},
   "outputs": [
    {
     "name": "stderr",
     "output_type": "stream",
     "text": [
      "/Applications/anaconda3/envs/pd_python3_10/lib/python3.10/site-packages/sklearn/cluster/_kmeans.py:1412: FutureWarning: The default value of `n_init` will change from 10 to 'auto' in 1.4. Set the value of `n_init` explicitly to suppress the warning\n",
      "  super()._check_params_vs_input(X, default_n_init=10)\n",
      "/Applications/anaconda3/envs/pd_python3_10/lib/python3.10/site-packages/threadpoolctl.py:1010: RuntimeWarning: \n",
      "Found Intel OpenMP ('libiomp') and LLVM OpenMP ('libomp') loaded at\n",
      "the same time. Both libraries are known to be incompatible and this\n",
      "can cause random crashes or deadlocks on Linux when loaded in the\n",
      "same Python program.\n",
      "Using threadpoolctl may cause crashes or deadlocks. For more\n",
      "information and possible workarounds, please see\n",
      "    https://github.com/joblib/threadpoolctl/blob/master/multiple_openmp.md\n",
      "\n",
      "  warnings.warn(msg, RuntimeWarning)\n"
     ]
    }
   ],
   "source": [
    "summary = bert(text, ratio=0.5)"
   ]
  },
  {
   "cell_type": "code",
   "execution_count": 5,
   "id": "7379611b",
   "metadata": {},
   "outputs": [
    {
     "data": {
      "text/plain": [
       "\"Poland,[a] officially the Republic of Poland,[b] is a country in Central Europe. Warsaw is the nation's capital and largest metropolis. Other major cities include Kraków, Gdańsk, Wrocław, Katowice, Łódź, Poznań, Szczecin and Lublin. The country is bordered by Lithuania and Russia to the northeast,[c] Belarus and Ukraine to the east, Slovakia and the Czech Republic to the south, and Germany to the west. It also shares maritime boundaries with Denmark and Sweden. The history of human activity on Polish soil dates to c.\\u200910,000 BC. Culturally diverse throughout late antiquity, the region became inhabited by tribal Polans who gave Poland its name in the early medieval period. With the passing of a prosperous Polish Golden Age, the country was partitioned by neighbouring states at the end of the 18th century and regained its independence in 1918 as the Second Polish Republic. It is a developed market and a high income economy. It provides a very high standard of living, safety and economic freedom, as well as free university education and a universal health care system. The country has 17 UNESCO World Heritage Sites, 15 of which are cultural. Poland is a founding member state of the United Nations, as well as a member of the World Trade Organization, NATO, and the European Union (including the Schengen Area).\""
      ]
     },
     "execution_count": 5,
     "metadata": {},
     "output_type": "execute_result"
    }
   ],
   "source": [
    "summary"
   ]
  },
  {
   "cell_type": "code",
   "execution_count": 6,
   "id": "c9975ac1",
   "metadata": {},
   "outputs": [
    {
     "name": "stdout",
     "output_type": "stream",
     "text": [
      "[0, 3, 4, 7, 8, 9, 10, 14, 19, 21, 22, 23]\n"
     ]
    }
   ],
   "source": [
    "import nltk\n",
    "\n",
    "sentences = nltk.sent_tokenize(text)\n",
    "summary_sentences = nltk.sent_tokenize(summary)\n",
    "ids = []\n",
    "\n",
    "for s in summary_sentences:\n",
    "    ids.append(sentences.index(s))\n",
    "print(ids)"
   ]
  },
  {
   "cell_type": "code",
   "execution_count": 7,
   "id": "dbac9528",
   "metadata": {},
   "outputs": [
    {
     "name": "stdout",
     "output_type": "stream",
     "text": [
      "\u001b[33mPoland,[a] officially the Republic of Poland,[b] is a country in Central Europe.\u001b[0m\n",
      "\u001b[30mIt is divided into 16 administrative provinces called voivodeships, covering an area of 313,931 km2 (121,209 sq mi).\u001b[0m\n",
      "\u001b[30mPoland has a population of 38 million and is the fifth-most populous member state of the European Union.\u001b[0m\n",
      "\u001b[33mWarsaw is the nation's capital and largest metropolis.\u001b[0m\n",
      "\u001b[33mOther major cities include Kraków, Gdańsk, Wrocław, Katowice, Łódź, Poznań, Szczecin and Lublin.\u001b[0m\n",
      "\u001b[30mPoland has a temperate transitional climate and its territory traverses the Central European Plain, extending from Baltic Sea in the north to Sudeten and Carpathian Mountains in the south.\u001b[0m\n",
      "\u001b[30mThe longest Polish river is the Vistula, and Poland's highest point is Mount Rysy, situated in the Tatra mountain range of the Carpathians.\u001b[0m\n",
      "\u001b[33mThe country is bordered by Lithuania and Russia to the northeast,[c] Belarus and Ukraine to the east, Slovakia and the Czech Republic to the south, and Germany to the west.\u001b[0m\n",
      "\u001b[33mIt also shares maritime boundaries with Denmark and Sweden.\u001b[0m\n",
      "\u001b[33mThe history of human activity on Polish soil dates to c. 10,000 BC.\u001b[0m\n",
      "\u001b[33mCulturally diverse throughout late antiquity, the region became inhabited by tribal Polans who gave Poland its name in the early medieval period.\u001b[0m\n",
      "\u001b[30mThe establishment of statehood in 966 coincided with a pagan ruler of the Polans converting to Christianity under the auspices of the Roman Church.\u001b[0m\n",
      "\u001b[30mThe Kingdom of Poland emerged in 1025 and in 1569 cemented its longstanding association with Lithuania, thus forming the Polish–Lithuanian Commonwealth.\u001b[0m\n",
      "\u001b[30mIt was one of the great powers of Europe at the time, with a uniquely liberal political system that adopted Europe's first modern constitution in 1791.\u001b[0m\n",
      "\u001b[33mWith the passing of a prosperous Polish Golden Age, the country was partitioned by neighbouring states at the end of the 18th century and regained its independence in 1918 as the Second Polish Republic.\u001b[0m\n",
      "\u001b[30mIn September 1939, the invasion of Poland by Germany and the Soviet Union marked the beginning of World War II, which resulted in the Holocaust and millions of Polish casualties.\u001b[0m\n",
      "\u001b[30mAs a member of the Communist Bloc in the global Cold War, the Polish People's Republic was a founding signatory of the Warsaw Pact.\u001b[0m\n",
      "\u001b[30mThrough the emergence and contributions of the Solidarity movement, the communist government was dissolved and Poland re-established itself as a democratic state in 1989.\u001b[0m\n",
      "\u001b[30mPoland is a parliamentary republic, with its bicameral legislature comprising the Sejm and the Senate.\u001b[0m\n",
      "\u001b[33mIt is a developed market and a high income economy.\u001b[0m\n",
      "\u001b[30mConsidered a middle power, Poland has the sixth largest economy in the European Union by GDP (nominal) and the fifth largest by GDP (PPP).\u001b[0m\n",
      "\u001b[33mIt provides a very high standard of living, safety and economic freedom, as well as free university education and a universal health care system.\u001b[0m\n",
      "\u001b[33mThe country has 17 UNESCO World Heritage Sites, 15 of which are cultural.\u001b[0m\n",
      "\u001b[33mPoland is a founding member state of the United Nations, as well as a member of the World Trade Organization, NATO, and the European Union (including the Schengen Area).\u001b[0m\n"
     ]
    }
   ],
   "source": [
    "from termcolor import colored\n",
    "\n",
    "i = 0\n",
    "for sent in nltk.sent_tokenize(text):\n",
    "    if i in ids:\n",
    "        print(colored(sent, 'yellow'))\n",
    "    else:\n",
    "        print(colored(sent, 'black'))\n",
    "    i = i + 1"
   ]
  },
  {
   "cell_type": "code",
   "execution_count": 8,
   "id": "6cd9486b",
   "metadata": {},
   "outputs": [],
   "source": [
    "from transformers import AutoTokenizer, AutoModel, AutoConfig\n",
    "\n",
    "custom_config = AutoConfig.from_pretrained('gpt2')\n",
    "custom_config.output_hidden_states=True\n",
    "custom_tokenizer = AutoTokenizer.from_pretrained('gpt2')\n",
    "custom_model = AutoModel.from_pretrained('gpt2', config=custom_config)"
   ]
  },
  {
   "cell_type": "code",
   "execution_count": 9,
   "id": "de718b2d",
   "metadata": {},
   "outputs": [],
   "source": [
    "model = Summarizer(custom_model=custom_model, custom_tokenizer=custom_tokenizer)"
   ]
  },
  {
   "cell_type": "code",
   "execution_count": 10,
   "id": "23702d8e",
   "metadata": {},
   "outputs": [
    {
     "name": "stderr",
     "output_type": "stream",
     "text": [
      "/Applications/anaconda3/envs/pd_python3_10/lib/python3.10/site-packages/sklearn/cluster/_kmeans.py:1412: FutureWarning: The default value of `n_init` will change from 10 to 'auto' in 1.4. Set the value of `n_init` explicitly to suppress the warning\n",
      "  super()._check_params_vs_input(X, default_n_init=10)\n"
     ]
    }
   ],
   "source": [
    "summary = model(text, ratio=0.5)"
   ]
  },
  {
   "cell_type": "code",
   "execution_count": 11,
   "id": "a21c1a5e",
   "metadata": {},
   "outputs": [
    {
     "name": "stdout",
     "output_type": "stream",
     "text": [
      "[0, 1, 2, 3, 4, 5, 8, 9, 14, 17, 21, 22]\n"
     ]
    }
   ],
   "source": [
    "sentences = nltk.sent_tokenize(text)\n",
    "summary_sentences = nltk.sent_tokenize(summary)\n",
    "ids = []\n",
    "\n",
    "for s in summary_sentences:\n",
    "    ids.append(sentences.index(s))\n",
    "print(ids)"
   ]
  },
  {
   "cell_type": "code",
   "execution_count": 12,
   "id": "8b3019d2",
   "metadata": {},
   "outputs": [
    {
     "name": "stdout",
     "output_type": "stream",
     "text": [
      "\u001b[33mPoland,[a] officially the Republic of Poland,[b] is a country in Central Europe.\u001b[0m\n",
      "\u001b[33mIt is divided into 16 administrative provinces called voivodeships, covering an area of 313,931 km2 (121,209 sq mi).\u001b[0m\n",
      "\u001b[33mPoland has a population of 38 million and is the fifth-most populous member state of the European Union.\u001b[0m\n",
      "\u001b[33mWarsaw is the nation's capital and largest metropolis.\u001b[0m\n",
      "\u001b[33mOther major cities include Kraków, Gdańsk, Wrocław, Katowice, Łódź, Poznań, Szczecin and Lublin.\u001b[0m\n",
      "\u001b[33mPoland has a temperate transitional climate and its territory traverses the Central European Plain, extending from Baltic Sea in the north to Sudeten and Carpathian Mountains in the south.\u001b[0m\n",
      "\u001b[30mThe longest Polish river is the Vistula, and Poland's highest point is Mount Rysy, situated in the Tatra mountain range of the Carpathians.\u001b[0m\n",
      "\u001b[30mThe country is bordered by Lithuania and Russia to the northeast,[c] Belarus and Ukraine to the east, Slovakia and the Czech Republic to the south, and Germany to the west.\u001b[0m\n",
      "\u001b[33mIt also shares maritime boundaries with Denmark and Sweden.\u001b[0m\n",
      "\u001b[33mThe history of human activity on Polish soil dates to c. 10,000 BC.\u001b[0m\n",
      "\u001b[30mCulturally diverse throughout late antiquity, the region became inhabited by tribal Polans who gave Poland its name in the early medieval period.\u001b[0m\n",
      "\u001b[30mThe establishment of statehood in 966 coincided with a pagan ruler of the Polans converting to Christianity under the auspices of the Roman Church.\u001b[0m\n",
      "\u001b[30mThe Kingdom of Poland emerged in 1025 and in 1569 cemented its longstanding association with Lithuania, thus forming the Polish–Lithuanian Commonwealth.\u001b[0m\n",
      "\u001b[30mIt was one of the great powers of Europe at the time, with a uniquely liberal political system that adopted Europe's first modern constitution in 1791.\u001b[0m\n",
      "\u001b[33mWith the passing of a prosperous Polish Golden Age, the country was partitioned by neighbouring states at the end of the 18th century and regained its independence in 1918 as the Second Polish Republic.\u001b[0m\n",
      "\u001b[30mIn September 1939, the invasion of Poland by Germany and the Soviet Union marked the beginning of World War II, which resulted in the Holocaust and millions of Polish casualties.\u001b[0m\n",
      "\u001b[30mAs a member of the Communist Bloc in the global Cold War, the Polish People's Republic was a founding signatory of the Warsaw Pact.\u001b[0m\n",
      "\u001b[33mThrough the emergence and contributions of the Solidarity movement, the communist government was dissolved and Poland re-established itself as a democratic state in 1989.\u001b[0m\n",
      "\u001b[30mPoland is a parliamentary republic, with its bicameral legislature comprising the Sejm and the Senate.\u001b[0m\n",
      "\u001b[30mIt is a developed market and a high income economy.\u001b[0m\n",
      "\u001b[30mConsidered a middle power, Poland has the sixth largest economy in the European Union by GDP (nominal) and the fifth largest by GDP (PPP).\u001b[0m\n",
      "\u001b[33mIt provides a very high standard of living, safety and economic freedom, as well as free university education and a universal health care system.\u001b[0m\n",
      "\u001b[33mThe country has 17 UNESCO World Heritage Sites, 15 of which are cultural.\u001b[0m\n",
      "\u001b[30mPoland is a founding member state of the United Nations, as well as a member of the World Trade Organization, NATO, and the European Union (including the Schengen Area).\u001b[0m\n"
     ]
    }
   ],
   "source": [
    "from termcolor import colored\n",
    "\n",
    "i = 0\n",
    "for sent in nltk.sent_tokenize(text):\n",
    "    if i in ids:\n",
    "        print(colored(sent, 'yellow'))\n",
    "    else:\n",
    "        print(colored(sent, 'black'))\n",
    "    i = i + 1"
   ]
  },
  {
   "cell_type": "code",
   "execution_count": null,
   "id": "d49a798b",
   "metadata": {},
   "outputs": [],
   "source": []
  }
 ],
 "metadata": {
  "kernelspec": {
   "display_name": "Python 3 (ipykernel)",
   "language": "python",
   "name": "python3"
  },
  "language_info": {
   "codemirror_mode": {
    "name": "ipython",
    "version": 3
   },
   "file_extension": ".py",
   "mimetype": "text/x-python",
   "name": "python",
   "nbconvert_exporter": "python",
   "pygments_lexer": "ipython3",
   "version": "3.10.12"
  }
 },
 "nbformat": 4,
 "nbformat_minor": 5
}

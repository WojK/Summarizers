{
 "cells": [
  {
   "cell_type": "markdown",
   "id": "ae71dba4",
   "metadata": {},
   "source": [
    "## Yake"
   ]
  },
  {
   "cell_type": "code",
   "execution_count": 1,
   "id": "b23b9496",
   "metadata": {},
   "outputs": [],
   "source": [
    "import yake"
   ]
  },
  {
   "cell_type": "code",
   "execution_count": 2,
   "id": "c381954b",
   "metadata": {},
   "outputs": [],
   "source": [
    "text = \"\"\"Poland, officially the Republic of Poland, is a country in Central Europe. It is divided into 16 administrative provinces called voivodeships, covering an area of 313,931 km2 (121,209 sq mi). Poland has a population of 38 million and is the fifth-most populous member state of the European Union. Warsaw is the nation's capital and largest metropolis. Other major cities include Kraków, Gdańsk, Wrocław, Katowice, Łódź, Poznań, Szczecin and Lublin.\n",
    "\n",
    "Poland has a temperate transitional climate and its territory traverses the Central European Plain, extending from Baltic Sea in the north to Sudeten and Carpathian Mountains in the south. The longest Polish river is the Vistula, and Poland's highest point is Mount Rysy, situated in the Tatra mountain range of the Carpathians. The country is bordered by Lithuania and Russia to the northeast,[c] Belarus and Ukraine to the east, Slovakia and the Czech Republic to the south, and Germany to the west. It also shares maritime boundaries with Denmark and Sweden.\n",
    "\n",
    "The history of human activity on Polish soil dates to c. 10,000 BC. Culturally diverse throughout late antiquity, the region became inhabited by tribal Polans who gave Poland its name in the early medieval period. The establishment of statehood in 966 coincided with a pagan ruler of the Polans converting to Christianity under the auspices of the Roman Church. The Kingdom of Poland emerged in 1025 and in 1569 cemented its longstanding association with Lithuania, thus forming the Polish–Lithuanian Commonwealth. It was one of the great powers of Europe at the time, with a uniquely liberal political system that adopted Europe's first modern constitution in 1791.\n",
    "\n",
    "With the passing of a prosperous Polish Golden Age, the country was partitioned by neighbouring states at the end of the 18th century and regained its independence in 1918 as the Second Polish Republic. In September 1939, the invasion of Poland by Germany and the Soviet Union marked the beginning of World War II, which resulted in the Holocaust and millions of Polish casualties. As a member of the Communist Bloc in the global Cold War, the Polish People's Republic was a founding signatory of the Warsaw Pact. Through the emergence and contributions of the Solidarity movement, the communist government was dissolved and Poland re-established itself as a democratic state in 1989.\n",
    "\n",
    "Poland is a parliamentary republic, with its bicameral legislature comprising the Sejm and the Senate. It is a developed market and a high income economy. Considered a middle power, Poland has the sixth largest economy in the European Union by GDP (nominal) and the fifth largest by GDP (PPP). It provides a very high standard of living, safety and economic freedom, as well as free university education and a universal health care system. The country has 17 UNESCO World Heritage Sites, 15 of which are cultural. Poland is a founding member state of the United Nations, as well as a member of the World Trade Organization, NATO, and the European Union (including the Schengen Area).\"\"\""
   ]
  },
  {
   "cell_type": "code",
   "execution_count": 12,
   "id": "ed7c6cae",
   "metadata": {},
   "outputs": [
    {
     "name": "stdout",
     "output_type": "stream",
     "text": [
      "('Poland', 0.013997738424657798)\n",
      "('Polish', 0.029444602710506383)\n",
      "('Republic', 0.05285809575524604)\n",
      "('European', 0.06072196434254689)\n",
      "('Union', 0.0676675531063788)\n",
      "('Europe', 0.08627844279335802)\n",
      "('country', 0.09772649210148239)\n",
      "('member', 0.10439694235558308)\n",
      "('Central', 0.10920564642469052)\n",
      "('World', 0.10931160710416836)\n",
      "('state', 0.13953558308898215)\n",
      "('largest', 0.15829112984981222)\n",
      "('Lithuania', 0.1652070647328428)\n",
      "('Germany', 0.1700327937645743)\n",
      "('Polans', 0.1700327937645743)\n",
      "('officially', 0.17290727301281533)\n",
      "('War', 0.1815988569389441)\n",
      "('GDP', 0.18196288425128043)\n",
      "('Warsaw', 0.20468934702541136)\n",
      "('area', 0.21296346502679986)\n"
     ]
    }
   ],
   "source": [
    "language = \"en\"\n",
    "ngram_size = 1\n",
    "numOfKeywords = 20\n",
    "\n",
    "extractor = yake.KeywordExtractor(lan=language, n=ngram_size,top=numOfKeywords)\n",
    "keywords = extractor.extract_keywords(text)\n",
    "\n",
    "for kw in keywords:\n",
    "    print(kw)"
   ]
  },
  {
   "cell_type": "markdown",
   "id": "f7b9fe3e",
   "metadata": {},
   "source": [
    "## KeyBert"
   ]
  },
  {
   "cell_type": "code",
   "execution_count": 6,
   "id": "c7d271c3",
   "metadata": {},
   "outputs": [],
   "source": [
    "from keybert import KeyBERT"
   ]
  },
  {
   "cell_type": "code",
   "execution_count": 8,
   "id": "32e05d8e",
   "metadata": {},
   "outputs": [],
   "source": [
    "keybert = KeyBERT()"
   ]
  },
  {
   "cell_type": "code",
   "execution_count": 11,
   "id": "42d7a15f",
   "metadata": {},
   "outputs": [
    {
     "data": {
      "text/plain": [
       "[('poland', 0.5815),\n",
       " ('warsaw', 0.5575),\n",
       " ('gdańsk', 0.5313),\n",
       " ('poznań', 0.5141),\n",
       " ('łódź', 0.5026),\n",
       " ('kraków', 0.4902),\n",
       " ('voivodeships', 0.4852),\n",
       " ('wrocław', 0.4715),\n",
       " ('carpathian', 0.4652),\n",
       " ('carpathians', 0.4357),\n",
       " ('polish', 0.4349),\n",
       " ('baltic', 0.4191),\n",
       " ('slovakia', 0.4117),\n",
       " ('katowice', 0.4085),\n",
       " ('belarus', 0.4011),\n",
       " ('lithuania', 0.3996),\n",
       " ('szczecin', 0.3954),\n",
       " ('lublin', 0.393),\n",
       " ('vistula', 0.3628),\n",
       " ('czech', 0.3376)]"
      ]
     },
     "execution_count": 11,
     "metadata": {},
     "output_type": "execute_result"
    }
   ],
   "source": [
    "keybert.extract_keywords(text, keyphrase_ngram_range=(1, 1), stop_words=None, top_n=20)\n"
   ]
  },
  {
   "cell_type": "markdown",
   "id": "9b0ec006",
   "metadata": {},
   "source": [
    "## Rake"
   ]
  },
  {
   "cell_type": "code",
   "execution_count": 13,
   "id": "90ef3c0c",
   "metadata": {},
   "outputs": [],
   "source": [
    "from rake_nltk import Rake"
   ]
  },
  {
   "cell_type": "code",
   "execution_count": 19,
   "id": "58bd3bf2",
   "metadata": {},
   "outputs": [],
   "source": [
    "rake = Rake(max_length=1)"
   ]
  },
  {
   "cell_type": "code",
   "execution_count": 20,
   "id": "c9ec2bbb",
   "metadata": {},
   "outputs": [],
   "source": [
    "rake.extract_keywords_from_text(text)"
   ]
  },
  {
   "cell_type": "code",
   "execution_count": 25,
   "id": "d24c5dbe",
   "metadata": {},
   "outputs": [
    {
     "data": {
      "text/plain": [
       "['łódź',\n",
       " 'wrocław',\n",
       " 'west',\n",
       " 'well',\n",
       " 'well',\n",
       " 'warsaw',\n",
       " 'vistula',\n",
       " 'ukraine',\n",
       " 'time',\n",
       " 'szczecin',\n",
       " 'sweden',\n",
       " 'sudeten',\n",
       " 'statehood',\n",
       " 'south',\n",
       " 'south',\n",
       " 'slovakia',\n",
       " 'situated',\n",
       " 'senate',\n",
       " 'sejm',\n",
       " 'safety']"
      ]
     },
     "execution_count": 25,
     "metadata": {},
     "output_type": "execute_result"
    }
   ],
   "source": [
    "rake.get_ranked_phrases()[0:20]"
   ]
  },
  {
   "cell_type": "code",
   "execution_count": null,
   "id": "6d04f8cf",
   "metadata": {},
   "outputs": [],
   "source": []
  }
 ],
 "metadata": {
  "kernelspec": {
   "display_name": "Python 3 (ipykernel)",
   "language": "python",
   "name": "python3"
  },
  "language_info": {
   "codemirror_mode": {
    "name": "ipython",
    "version": 3
   },
   "file_extension": ".py",
   "mimetype": "text/x-python",
   "name": "python",
   "nbconvert_exporter": "python",
   "pygments_lexer": "ipython3",
   "version": "3.10.12"
  }
 },
 "nbformat": 4,
 "nbformat_minor": 5
}

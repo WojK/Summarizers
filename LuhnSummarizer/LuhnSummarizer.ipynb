{
 "cells": [
  {
   "cell_type": "code",
   "execution_count": 1,
   "id": "b152b7fc",
   "metadata": {},
   "outputs": [],
   "source": [
    "import re\n",
    "import string\n",
    "import nltk\n",
    "from nltk.corpus import stopwords\n",
    "from string import punctuation\n",
    "from nltk.tokenize import word_tokenize\n",
    "from nltk.stem import PorterStemmer\n",
    "from termcolor import colored"
   ]
  },
  {
   "cell_type": "code",
   "execution_count": 2,
   "id": "5be74bd7",
   "metadata": {},
   "outputs": [
    {
     "name": "stderr",
     "output_type": "stream",
     "text": [
      "[nltk_data] Downloading package punkt to /Users/admin/nltk_data...\n",
      "[nltk_data]   Package punkt is already up-to-date!\n",
      "[nltk_data] Downloading package stopwords to /Users/admin/nltk_data...\n",
      "[nltk_data]   Package stopwords is already up-to-date!\n"
     ]
    },
    {
     "data": {
      "text/plain": [
       "True"
      ]
     },
     "execution_count": 2,
     "metadata": {},
     "output_type": "execute_result"
    }
   ],
   "source": [
    "nltk.download('punkt')\n",
    "nltk.download('stopwords')"
   ]
  },
  {
   "cell_type": "code",
   "execution_count": 3,
   "id": "e713f154",
   "metadata": {},
   "outputs": [],
   "source": [
    "text = \"\"\"Polska, Rzeczpospolita Polska (RP) – państwo unitarne[9] w Europie Środkowej[10], położone między Morzem Bałtyckim na północy a Sudetami i Karpatami na południu, w przeważającej części w dorzeczu Wisły i Odry. Od północy Polska graniczy z Rosją (z jej obwodem królewieckim) i Litwą, od wschodu z Białorusią i Ukrainą, od południa ze Słowacją i Czechami, od zachodu z Niemcami[11]. Większość północnej granicy Polski wyznacza wybrzeże Morza Bałtyckiego. Polska Wyłączna Strefa Ekonomiczna na Bałtyku graniczy ze strefami Danii i Szwecji. Granice z Ukrainą, Białorusią i Rosją stanowią równocześnie granicę zewnętrzną NATO, Unii Europejskiej i strefy Schengen.\n",
    "\n",
    "Powierzchnia administracyjna Polski wynosi 312 696 km²[c][4], co daje jej 69. miejsce na świecie[h][12] i 9. w Europie. Zamieszkana przez 37 766 327 ludzi (2022)[6], zajmuje pod względem liczby ludności 38. miejsce na świecie (wg danych za 2020 rok)[13], a 5. w Unii Europejskiej. Polska podzielona jest na 16 województw. Jej największym miastem i jednocześnie stolicą jest Warszawa. Inne metropolie to Kraków, Wrocław, Łódź, Poznań, Gdańsk, Szczecin. Największą polską aglomeracją policentryczną jest konurbacja górnośląska. Polska jest krajem jednolitym etnicznie – 97% ludności deklaruje narodowość polską.\n",
    "\n",
    "Pierwszą historycznie potwierdzoną datą opisującą dzieje Polski jest rok 966, gdy książę Mieszko I, władca obszarów mieszczących się współcześnie w większości w granicach Polski, przyjął chrzest. W 1025 powstało Królestwo Polskie, którego pierwszym królem był syn Mieszka I, Bolesław I Chrobry. W 1385 Polska zawarła porozumienie z Wielkim Księstwem Litewskim, podpisując akt unii w Krewie; związek ten zacieśniła unia lubelska z 1569, w wyniku czego powstała Rzeczpospolita Obojga Narodów, jedno z największych i najludniejszych państw na mapie szesnasto- i siedemnastowiecznej Europy[14][15], które w latach 1618–1621, po rozejmie w Dywilinie, miało powierzchnię około 1 mln km². Jej ustrój wewnętrzny określany jest jako demokracja szlachecka, zaś monarchę wybierano w systemie tak zwanej wolnej elekcji. Rzeczpospolita przestała istnieć w wyniku III rozbioru, w 1795, kiedy to jej terytorium podzielone zostało między Prusy, Rosję i Austrię.\n",
    "\n",
    "Po 123 latach, pod koniec I wojny światowej, w 1918, Polska odzyskała niepodległość (odrodzona wówczas państwowość nazywana jest II Rzecząpospolitą). 1 września 1939 atakiem Niemiec na Polskę rozpoczęła się II wojna światowa, zaś 17 września 1939 nastąpiła agresja ZSRR; wobec tego w październiku 1939 całe terytorium kraju znalazło się pod okupacją niemiecką i sowiecką. W wyniku II wojny światowej życie straciło ponad sześć milionów obywateli Polski[16][17]. Konferencja jałtańska w lutym 1945 umieściła Polskę w strefie wpływów ZSRR. W lipcu 1945 postanowieniami konferencji poczdamskiej granice Polski przesunięto na zachód (między linię Odry i Nysy Łużyckiej, a linię Curzona), przyłączając tzw. Ziemie Odzyskane w miejsce Kresów Wschodnich. Polska Rzeczpospolita Ludowa (nazwa państwa przyjęta w 1952) była państwem satelickim ZSRR w formule tzw. demokracji ludowej. Rządy w systemie monopartyjnym sprawowała komunistyczna Polska Partia Robotnicza, a następnie Polska Zjednoczona Partia Robotnicza (przy formalnym istnieniu ugrupowań satelickich). W okresie zimnej wojny PRL należała do Układu Warszawskiego, stanowiła zatem część tzw. bloku wschodniego.\"\"\""
   ]
  },
  {
   "cell_type": "code",
   "execution_count": 4,
   "id": "b91dc102",
   "metadata": {},
   "outputs": [],
   "source": [
    "stop = set(stopwords.words('english'))\n",
    "punctuation = list(punctuation)\n",
    "stop.update(punctuation)"
   ]
  },
  {
   "cell_type": "code",
   "execution_count": 5,
   "id": "ee8d5efc",
   "metadata": {},
   "outputs": [],
   "source": [
    "def process_data(text, stopwords_set):\n",
    "    output = []\n",
    "    for i in text.split():\n",
    "        word = i.strip().lower()\n",
    "        if word not in stopwords_set and word.isalpha():\n",
    "            output.append(word)\n",
    "    return \" \".join(output)"
   ]
  },
  {
   "cell_type": "code",
   "execution_count": 6,
   "id": "932ace5e",
   "metadata": {},
   "outputs": [],
   "source": [
    "text_processed = process_data(text, stop)"
   ]
  },
  {
   "cell_type": "code",
   "execution_count": 7,
   "id": "a8767478",
   "metadata": {},
   "outputs": [
    {
     "data": {
      "text/plain": [
       "'rzeczpospolita polska państwo w europie położone między morzem bałtyckim na północy sudetami karpatami na w przeważającej części w dorzeczu wisły od północy polska graniczy z rosją jej obwodem od wschodu z białorusią od południa ze słowacją od zachodu z większość północnej granicy polski wyznacza wybrzeże morza polska wyłączna strefa ekonomiczna na bałtyku graniczy ze strefami danii granice z białorusią rosją stanowią równocześnie granicę zewnętrzną unii europejskiej strefy powierzchnia administracyjna polski wynosi co daje jej miejsce na w zamieszkana przez ludzi zajmuje pod względem liczby ludności miejsce na świecie danych za w unii polska podzielona jest na jej największym miastem jednocześnie stolicą jest inne metropolie największą polską aglomeracją policentryczną jest konurbacja polska jest krajem jednolitym etnicznie ludności deklaruje narodowość pierwszą historycznie potwierdzoną datą opisującą dzieje polski jest rok gdy książę mieszko władca obszarów mieszczących się współcześnie w większości w granicach przyjął w powstało królestwo którego pierwszym królem był syn mieszka bolesław w polska zawarła porozumienie z wielkim księstwem podpisując akt unii w związek ten zacieśniła unia lubelska z w wyniku czego powstała rzeczpospolita obojga jedno z największych najludniejszych państw na mapie siedemnastowiecznej które w latach po rozejmie w miało powierzchnię około mln jej ustrój wewnętrzny określany jest jako demokracja zaś monarchę wybierano w systemie tak zwanej wolnej rzeczpospolita przestała istnieć w wyniku iii w kiedy jej terytorium podzielone zostało między rosję po pod koniec wojny w polska odzyskała niepodległość wówczas państwowość nazywana jest ii września atakiem niemiec na polskę rozpoczęła się ii wojna zaś września nastąpiła agresja wobec tego w październiku całe terytorium kraju znalazło się pod okupacją niemiecką w wyniku ii wojny światowej życie straciło ponad sześć milionów obywateli konferencja jałtańska w lutym umieściła polskę w strefie wpływów w lipcu postanowieniami konferencji poczdamskiej granice polski przesunięto na zachód linię odry nysy linię przyłączając ziemie odzyskane w miejsce kresów polska rzeczpospolita ludowa państwa przyjęta w była państwem satelickim zsrr w formule demokracji rządy w systemie monopartyjnym sprawowała komunistyczna polska partia następnie polska zjednoczona partia robotnicza formalnym istnieniu ugrupowań w okresie zimnej wojny prl należała układu stanowiła zatem część bloku'"
      ]
     },
     "execution_count": 7,
     "metadata": {},
     "output_type": "execute_result"
    }
   ],
   "source": [
    "text_processed"
   ]
  },
  {
   "cell_type": "code",
   "execution_count": 8,
   "id": "5b6cabae",
   "metadata": {},
   "outputs": [],
   "source": [
    "def tokenize_and_stem(data):\n",
    "    stem_tokens = []\n",
    "    stemmer = PorterStemmer()\n",
    "    data_tokens = word_tokenize(data)\n",
    "    for word in data_tokens:\n",
    "        stem_word = stemmer.stem(word)\n",
    "        stem_tokens.append(stem_word)\n",
    "    return stem_tokens    "
   ]
  },
  {
   "cell_type": "code",
   "execution_count": 9,
   "id": "b4958375",
   "metadata": {},
   "outputs": [],
   "source": [
    "tokenized = tokenize_and_stem(text_processed)"
   ]
  },
  {
   "cell_type": "code",
   "execution_count": 10,
   "id": "89fa6881",
   "metadata": {},
   "outputs": [],
   "source": [
    "fdist = nltk.FreqDist(tokenized)\n"
   ]
  },
  {
   "cell_type": "code",
   "execution_count": 11,
   "id": "ad478f41",
   "metadata": {},
   "outputs": [
    {
     "data": {
      "text/plain": [
       "[('w', 27), ('polska', 10), ('na', 9), ('z', 7), ('jest', 7)]"
      ]
     },
     "execution_count": 11,
     "metadata": {},
     "output_type": "execute_result"
    }
   ],
   "source": [
    "fdist.most_common(5)"
   ]
  },
  {
   "cell_type": "code",
   "execution_count": 12,
   "id": "19bd190e",
   "metadata": {},
   "outputs": [],
   "source": [
    "def calculate_sentence(processed_sentence, most_common_words, distance):\n",
    "    \n",
    "    most_common_words_indexes = []\n",
    "    for word in most_common_words:\n",
    "        try:\n",
    "            index = processed_sentence.index(word)\n",
    "            most_common_words_indexes.append(index)\n",
    "        except ValueError:\n",
    "            pass\n",
    "    most_common_words_indexes.sort()\n",
    "    \n",
    "    i = 1\n",
    "    groups = []\n",
    "    if len(most_common_words_indexes) > 0:\n",
    "        group = [most_common_words_indexes[0]]\n",
    "        while i < len(most_common_words_indexes):\n",
    "            if most_common_words_indexes[i] - most_common_words_indexes[i-1] < distance:\n",
    "                group.append(most_common_words_indexes[i])\n",
    "            else:\n",
    "                groups.append(group.copy())\n",
    "                group = [most_common_words_indexes[i]]      \n",
    "            i = i + 1\n",
    "        groups.append(group)\n",
    "           \n",
    "    highest_score = 0\n",
    "    for g in groups:\n",
    "        common_words = len(g)\n",
    "        all_words = g[-1]-g[0]+1\n",
    "        score = 1.0*common_words**2/all_words\n",
    "        if score > highest_score:\n",
    "            highest_score = score\n",
    "    \n",
    "    return highest_score"
   ]
  },
  {
   "cell_type": "code",
   "execution_count": 13,
   "id": "002306b6",
   "metadata": {},
   "outputs": [],
   "source": [
    "def summarize(text, n_top_words,stopwords_set, distance, percent_of_most_important_sentences):\n",
    "    sentences = nltk.sent_tokenize(text)\n",
    "    processed_sentences = []\n",
    "    for sent in sentences:\n",
    "        processed_sentences.append(tokenize_and_stem(process_data(sent, stopwords_set)))\n",
    "    words = []\n",
    "    for sent in processed_sentences:\n",
    "        for word in sent:\n",
    "            words.append(word)\n",
    "    fdist = nltk.FreqDist(words)\n",
    "    most_common_words = [word[0] for word in fdist.most_common(n_top_words)]\n",
    "    sentence_scores = [] \n",
    "    i = 0\n",
    "    for sent in processed_sentences:\n",
    "        score = calculate_sentence(sent, most_common_words, distance)\n",
    "        sentence_scores.append((i,score))\n",
    "        i = i + 1\n",
    "    \n",
    "    n = int(percent_of_most_important_sentences/100 * len(sentences))\n",
    "    sentence_scores = sorted(sentence_scores, key=lambda s: s[1], reverse=True)[0:n]\n",
    "    most_important_sentences_indexes = [score[0] for score in sentence_scores]\n",
    "    return most_important_sentences_indexes\n",
    "    "
   ]
  },
  {
   "cell_type": "code",
   "execution_count": 14,
   "id": "155b9bf5",
   "metadata": {},
   "outputs": [
    {
     "name": "stdout",
     "output_type": "stream",
     "text": [
      "\u001b[33mPolska, Rzeczpospolita Polska (RP) – państwo unitarne[9] w Europie Środkowej[10], położone między Morzem Bałtyckim na północy a Sudetami i Karpatami na południu, w przeważającej części w dorzeczu Wisły i Odry.\u001b[0m\n",
      "\u001b[33mOd północy Polska graniczy z Rosją (z jej obwodem królewieckim) i Litwą, od wschodu z Białorusią i Ukrainą, od południa ze Słowacją i Czechami, od zachodu z Niemcami[11].\u001b[0m\n",
      "\u001b[30mWiększość północnej granicy Polski wyznacza wybrzeże Morza Bałtyckiego.\u001b[0m\n",
      "\u001b[33mPolska Wyłączna Strefa Ekonomiczna na Bałtyku graniczy ze strefami Danii i Szwecji.\u001b[0m\n",
      "\u001b[30mGranice z Ukrainą, Białorusią i Rosją stanowią równocześnie granicę zewnętrzną NATO, Unii Europejskiej i strefy Schengen.\u001b[0m\n",
      "\u001b[33mPowierzchnia administracyjna Polski wynosi 312 696 km²[c][4], co daje jej 69. miejsce na świecie[h][12] i 9. w Europie.\u001b[0m\n",
      "\u001b[30mZamieszkana przez 37 766 327 ludzi (2022)[6], zajmuje pod względem liczby ludności 38. miejsce na świecie (wg danych za 2020 rok)[13], a 5. w Unii Europejskiej.\u001b[0m\n",
      "\u001b[33mPolska podzielona jest na 16 województw.\u001b[0m\n",
      "\u001b[30mJej największym miastem i jednocześnie stolicą jest Warszawa.\u001b[0m\n",
      "\u001b[30mInne metropolie to Kraków, Wrocław, Łódź, Poznań, Gdańsk, Szczecin.\u001b[0m\n",
      "\u001b[30mNajwiększą polską aglomeracją policentryczną jest konurbacja górnośląska.\u001b[0m\n",
      "\u001b[33mPolska jest krajem jednolitym etnicznie – 97% ludności deklaruje narodowość polską.\u001b[0m\n",
      "\u001b[30mPierwszą historycznie potwierdzoną datą opisującą dzieje Polski jest rok 966, gdy książę Mieszko I, władca obszarów mieszczących się współcześnie w większości w granicach Polski, przyjął chrzest.\u001b[0m\n",
      "\u001b[30mW 1025 powstało Królestwo Polskie, którego pierwszym królem był syn Mieszka I, Bolesław I Chrobry.\u001b[0m\n",
      "\u001b[33mW 1385 Polska zawarła porozumienie z Wielkim Księstwem Litewskim, podpisując akt unii w Krewie; związek ten zacieśniła unia lubelska z 1569, w wyniku czego powstała Rzeczpospolita Obojga Narodów, jedno z największych i najludniejszych państw na mapie szesnasto- i siedemnastowiecznej Europy[14][15], które w latach 1618–1621, po rozejmie w Dywilinie, miało powierzchnię około 1 mln km².\u001b[0m\n",
      "\u001b[30mJej ustrój wewnętrzny określany jest jako demokracja szlachecka, zaś monarchę wybierano w systemie tak zwanej wolnej elekcji.\u001b[0m\n",
      "\u001b[30mRzeczpospolita przestała istnieć w wyniku III rozbioru, w 1795, kiedy to jej terytorium podzielone zostało między Prusy, Rosję i Austrię.\u001b[0m\n",
      "\u001b[33mPo 123 latach, pod koniec I wojny światowej, w 1918, Polska odzyskała niepodległość (odrodzona wówczas państwowość nazywana jest II Rzecząpospolitą).\u001b[0m\n",
      "\u001b[30m1 września 1939 atakiem Niemiec na Polskę rozpoczęła się II wojna światowa, zaś 17 września 1939 nastąpiła agresja ZSRR; wobec tego w październiku 1939 całe terytorium kraju znalazło się pod okupacją niemiecką i sowiecką.\u001b[0m\n",
      "\u001b[30mW wyniku II wojny światowej życie straciło ponad sześć milionów obywateli Polski[16][17].\u001b[0m\n",
      "\u001b[30mKonferencja jałtańska w lutym 1945 umieściła Polskę w strefie wpływów ZSRR.\u001b[0m\n",
      "\u001b[30mW lipcu 1945 postanowieniami konferencji poczdamskiej granice Polski przesunięto na zachód (między linię Odry i Nysy Łużyckiej, a linię Curzona), przyłączając tzw.\u001b[0m\n",
      "\u001b[30mZiemie Odzyskane w miejsce Kresów Wschodnich.\u001b[0m\n",
      "\u001b[30mPolska Rzeczpospolita Ludowa (nazwa państwa przyjęta w 1952) była państwem satelickim ZSRR w formule tzw.\u001b[0m\n",
      "\u001b[30mdemokracji ludowej.\u001b[0m\n",
      "\u001b[30mRządy w systemie monopartyjnym sprawowała komunistyczna Polska Partia Robotnicza, a następnie Polska Zjednoczona Partia Robotnicza (przy formalnym istnieniu ugrupowań satelickich).\u001b[0m\n",
      "\u001b[30mW okresie zimnej wojny PRL należała do Układu Warszawskiego, stanowiła zatem część tzw.\u001b[0m\n",
      "\u001b[30mbloku wschodniego.\u001b[0m\n"
     ]
    }
   ],
   "source": [
    "indexes = summarize(text, 5, stop, 4, 30)\n",
    "\n",
    "i = 0\n",
    "for sent in nltk.sent_tokenize(text):\n",
    "    if i in indexes:\n",
    "        print(colored(sent, 'yellow'))\n",
    "    else:\n",
    "        print(colored(sent, 'black'))\n",
    "    i = i + 1"
   ]
  }
 ],
 "metadata": {
  "kernelspec": {
   "display_name": "Python 3 (ipykernel)",
   "language": "python",
   "name": "python3"
  },
  "language_info": {
   "codemirror_mode": {
    "name": "ipython",
    "version": 3
   },
   "file_extension": ".py",
   "mimetype": "text/x-python",
   "name": "python",
   "nbconvert_exporter": "python",
   "pygments_lexer": "ipython3",
   "version": "3.11.4"
  }
 },
 "nbformat": 4,
 "nbformat_minor": 5
}

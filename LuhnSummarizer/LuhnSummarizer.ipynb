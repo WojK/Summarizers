{
 "cells": [
  {
   "cell_type": "markdown",
   "id": "af2a23f3",
   "metadata": {},
   "source": [
    "https://courses.ischool.berkeley.edu/i256/f06/papers/luhn58.pdf"
   ]
  },
  {
   "cell_type": "code",
   "execution_count": 1,
   "id": "b152b7fc",
   "metadata": {},
   "outputs": [],
   "source": [
    "import re\n",
    "import string\n",
    "import nltk\n",
    "from nltk.corpus import stopwords\n",
    "from string import punctuation\n",
    "from nltk.tokenize import word_tokenize\n",
    "from nltk.stem import PorterStemmer\n",
    "from termcolor import colored"
   ]
  },
  {
   "cell_type": "code",
   "execution_count": 2,
   "id": "5be74bd7",
   "metadata": {},
   "outputs": [
    {
     "name": "stderr",
     "output_type": "stream",
     "text": [
      "[nltk_data] Downloading package punkt to /Users/admin/nltk_data...\n",
      "[nltk_data]   Package punkt is already up-to-date!\n",
      "[nltk_data] Downloading package stopwords to /Users/admin/nltk_data...\n",
      "[nltk_data]   Package stopwords is already up-to-date!\n"
     ]
    },
    {
     "data": {
      "text/plain": [
       "True"
      ]
     },
     "execution_count": 2,
     "metadata": {},
     "output_type": "execute_result"
    }
   ],
   "source": [
    "nltk.download('punkt')\n",
    "nltk.download('stopwords')"
   ]
  },
  {
   "cell_type": "code",
   "execution_count": 3,
   "id": "e713f154",
   "metadata": {},
   "outputs": [],
   "source": [
    "text = \"\"\"Poland, officially the Republic of Poland, is a country in Central Europe. It is divided into 16 administrative provinces called voivodeships, covering an area of 313,931 km2 (121,209 sq mi). Poland has a population of 38 million and is the fifth-most populous member state of the European Union. Warsaw is the nation's capital and largest metropolis. Other major cities include Kraków, Gdańsk, Wrocław, Katowice, Łódź, Poznań, Szczecin and Lublin.\n",
    "\n",
    "Poland has a temperate transitional climate and its territory traverses the Central European Plain, extending from Baltic Sea in the north to Sudeten and Carpathian Mountains in the south. The longest Polish river is the Vistula, and Poland's highest point is Mount Rysy, situated in the Tatra mountain range of the Carpathians. The country is bordered by Lithuania and Russia to the northeast,[c] Belarus and Ukraine to the east, Slovakia and the Czech Republic to the south, and Germany to the west. It also shares maritime boundaries with Denmark and Sweden.\n",
    "\n",
    "The history of human activity on Polish soil dates to c. 10,000 BC. Culturally diverse throughout late antiquity, the region became inhabited by tribal Polans who gave Poland its name in the early medieval period. The establishment of statehood in 966 coincided with a pagan ruler of the Polans converting to Christianity under the auspices of the Roman Church. The Kingdom of Poland emerged in 1025 and in 1569 cemented its longstanding association with Lithuania, thus forming the Polish–Lithuanian Commonwealth. It was one of the great powers of Europe at the time, with a uniquely liberal political system that adopted Europe's first modern constitution in 1791.\n",
    "\n",
    "With the passing of a prosperous Polish Golden Age, the country was partitioned by neighbouring states at the end of the 18th century and regained its independence in 1918 as the Second Polish Republic. In September 1939, the invasion of Poland by Germany and the Soviet Union marked the beginning of World War II, which resulted in the Holocaust and millions of Polish casualties. As a member of the Communist Bloc in the global Cold War, the Polish People's Republic was a founding signatory of the Warsaw Pact. Through the emergence and contributions of the Solidarity movement, the communist government was dissolved and Poland re-established itself as a democratic state in 1989.\n",
    "\n",
    "Poland is a parliamentary republic, with its bicameral legislature comprising the Sejm and the Senate. It is a developed market and a high income economy. Considered a middle power, Poland has the sixth largest economy in the European Union by GDP (nominal) and the fifth largest by GDP (PPP). It provides a very high standard of living, safety and economic freedom, as well as free university education and a universal health care system. The country has 17 UNESCO World Heritage Sites, 15 of which are cultural. Poland is a founding member state of the United Nations, as well as a member of the World Trade Organization, NATO, and the European Union (including the Schengen Area).\"\"\""
   ]
  },
  {
   "cell_type": "code",
   "execution_count": 4,
   "id": "b91dc102",
   "metadata": {},
   "outputs": [],
   "source": [
    "stop = set(stopwords.words('english'))\n",
    "punctuation = list(punctuation)\n",
    "stop.update(punctuation)"
   ]
  },
  {
   "cell_type": "code",
   "execution_count": 5,
   "id": "b4334ade",
   "metadata": {},
   "outputs": [],
   "source": [
    "def process_and_tokenize(text, stopwords_set):\n",
    "    stem_tokens = []\n",
    "    stemmer = PorterStemmer()\n",
    "    for word in word_tokenize(text.lower()):\n",
    "        if word not in stopwords_set and word.isalpha():\n",
    "            stem_word = stemmer.stem(word)\n",
    "            stem_tokens.append(stem_word)\n",
    "    return stem_tokens"
   ]
  },
  {
   "cell_type": "code",
   "execution_count": 6,
   "id": "54356f65",
   "metadata": {},
   "outputs": [],
   "source": [
    "sentences = nltk.sent_tokenize(text)"
   ]
  },
  {
   "cell_type": "code",
   "execution_count": 7,
   "id": "249df377",
   "metadata": {},
   "outputs": [
    {
     "name": "stdout",
     "output_type": "stream",
     "text": [
      "['poland', 'offici', 'republ', 'poland', 'countri', 'central', 'europ']\n"
     ]
    }
   ],
   "source": [
    "tokenized = process_and_tokenize(sentences[0], stop)\n",
    "print(tokenized)"
   ]
  },
  {
   "cell_type": "code",
   "execution_count": 8,
   "id": "96b65c68",
   "metadata": {},
   "outputs": [],
   "source": [
    "tokenized_text = process_and_tokenize(text, stop)"
   ]
  },
  {
   "cell_type": "code",
   "execution_count": 9,
   "id": "89fa6881",
   "metadata": {},
   "outputs": [],
   "source": [
    "fdist = nltk.FreqDist(tokenized_text)"
   ]
  },
  {
   "cell_type": "code",
   "execution_count": 10,
   "id": "ad478f41",
   "metadata": {},
   "outputs": [
    {
     "data": {
      "text/plain": [
       "[('poland', 12),\n",
       " ('polish', 6),\n",
       " ('republ', 5),\n",
       " ('countri', 4),\n",
       " ('member', 4),\n",
       " ('state', 4),\n",
       " ('european', 4),\n",
       " ('union', 4),\n",
       " ('europ', 3),\n",
       " ('largest', 3)]"
      ]
     },
     "execution_count": 10,
     "metadata": {},
     "output_type": "execute_result"
    }
   ],
   "source": [
    "fdist.most_common(10)"
   ]
  },
  {
   "cell_type": "code",
   "execution_count": 11,
   "id": "19bd190e",
   "metadata": {},
   "outputs": [],
   "source": [
    "def calculate_sentence(processed_sentence, most_common_words, distance):\n",
    "    \n",
    "    most_common_words_indexes = []\n",
    "    for word in most_common_words:\n",
    "        try:\n",
    "            index = processed_sentence.index(word)\n",
    "            most_common_words_indexes.append(index)\n",
    "        except ValueError:\n",
    "            pass\n",
    "    most_common_words_indexes.sort()\n",
    "    \n",
    "    i = 1\n",
    "    groups = []\n",
    "    if len(most_common_words_indexes) > 0:\n",
    "        group = [most_common_words_indexes[0]]\n",
    "        while i < len(most_common_words_indexes):\n",
    "            if most_common_words_indexes[i] - most_common_words_indexes[i-1] < distance:\n",
    "                group.append(most_common_words_indexes[i])\n",
    "            else:\n",
    "                groups.append(group.copy())\n",
    "                group = [most_common_words_indexes[i]]      \n",
    "            i = i + 1\n",
    "        groups.append(group)\n",
    "           \n",
    "    highest_score = 0\n",
    "    for g in groups:\n",
    "        common_words = len(g)\n",
    "        all_words = g[-1]-g[0]+1\n",
    "        score = 1.0*common_words**2/all_words\n",
    "        if score > highest_score:\n",
    "            highest_score = score\n",
    "    \n",
    "    return highest_score"
   ]
  },
  {
   "cell_type": "code",
   "execution_count": 12,
   "id": "002306b6",
   "metadata": {},
   "outputs": [],
   "source": [
    "def summarize(text, n_top_words, stopwords_set, distance, percent_of_most_important_sentences):\n",
    "    sentences = nltk.sent_tokenize(text)\n",
    "    processed_sentences = [process_and_tokenize(s, stopwords_set) for s in sentences]\n",
    "    words = []\n",
    "    for sent in processed_sentences:\n",
    "        for word in sent:\n",
    "            words.append(word)\n",
    "    fdist = nltk.FreqDist(words)\n",
    "    most_common_words = [word[0] for word in fdist.most_common(n_top_words)]\n",
    "    sentence_scores = [] \n",
    "    i = 0\n",
    "    for sent in processed_sentences:\n",
    "        score = calculate_sentence(sent, most_common_words, distance)\n",
    "        sentence_scores.append((i,score))\n",
    "        i = i + 1\n",
    "    \n",
    "    n = int(percent_of_most_important_sentences/100 * len(sentences))\n",
    "    sentence_scores = sorted(sentence_scores, key=lambda s: s[1], reverse=True)[0:n]\n",
    "    most_important_sentences_indexes = [score[0] for score in sentence_scores]\n",
    "    return most_important_sentences_indexes\n",
    "    "
   ]
  },
  {
   "cell_type": "code",
   "execution_count": 13,
   "id": "3d031d29",
   "metadata": {},
   "outputs": [
    {
     "name": "stdout",
     "output_type": "stream",
     "text": [
      "\u001b[33mPoland, officially the Republic of Poland, is a country in Central Europe.\u001b[0m\n",
      "\u001b[33mIt is divided into 16 administrative provinces called voivodeships, covering an area of 313,931 km2 (121,209 sq mi).\u001b[0m\n",
      "\u001b[33mPoland has a population of 38 million and is the fifth-most populous member state of the European Union.\u001b[0m\n",
      "\u001b[33mWarsaw is the nation's capital and largest metropolis.\u001b[0m\n",
      "\u001b[33mOther major cities include Kraków, Gdańsk, Wrocław, Katowice, Łódź, Poznań, Szczecin and Lublin.\u001b[0m\n",
      "\u001b[33mPoland has a temperate transitional climate and its territory traverses the Central European Plain, extending from Baltic Sea in the north to Sudeten and Carpathian Mountains in the south.\u001b[0m\n",
      "\u001b[30mThe longest Polish river is the Vistula, and Poland's highest point is Mount Rysy, situated in the Tatra mountain range of the Carpathians.\u001b[0m\n",
      "\u001b[33mThe country is bordered by Lithuania and Russia to the northeast,[c] Belarus and Ukraine to the east, Slovakia and the Czech Republic to the south, and Germany to the west.\u001b[0m\n",
      "\u001b[30mIt also shares maritime boundaries with Denmark and Sweden.\u001b[0m\n",
      "\u001b[30mThe history of human activity on Polish soil dates to c. 10,000 BC.\u001b[0m\n",
      "\u001b[30mCulturally diverse throughout late antiquity, the region became inhabited by tribal Polans who gave Poland its name in the early medieval period.\u001b[0m\n",
      "\u001b[30mThe establishment of statehood in 966 coincided with a pagan ruler of the Polans converting to Christianity under the auspices of the Roman Church.\u001b[0m\n",
      "\u001b[30mThe Kingdom of Poland emerged in 1025 and in 1569 cemented its longstanding association with Lithuania, thus forming the Polish–Lithuanian Commonwealth.\u001b[0m\n",
      "\u001b[33mIt was one of the great powers of Europe at the time, with a uniquely liberal political system that adopted Europe's first modern constitution in 1791.\u001b[0m\n",
      "\u001b[30mWith the passing of a prosperous Polish Golden Age, the country was partitioned by neighbouring states at the end of the 18th century and regained its independence in 1918 as the Second Polish Republic.\u001b[0m\n",
      "\u001b[33mIn September 1939, the invasion of Poland by Germany and the Soviet Union marked the beginning of World War II, which resulted in the Holocaust and millions of Polish casualties.\u001b[0m\n",
      "\u001b[33mAs a member of the Communist Bloc in the global Cold War, the Polish People's Republic was a founding signatory of the Warsaw Pact.\u001b[0m\n",
      "\u001b[30mThrough the emergence and contributions of the Solidarity movement, the communist government was dissolved and Poland re-established itself as a democratic state in 1989.\u001b[0m\n",
      "\u001b[30mPoland is a parliamentary republic, with its bicameral legislature comprising the Sejm and the Senate.\u001b[0m\n",
      "\u001b[30mIt is a developed market and a high income economy.\u001b[0m\n",
      "\u001b[33mConsidered a middle power, Poland has the sixth largest economy in the European Union by GDP (nominal) and the fifth largest by GDP (PPP).\u001b[0m\n",
      "\u001b[30mIt provides a very high standard of living, safety and economic freedom, as well as free university education and a universal health care system.\u001b[0m\n",
      "\u001b[30mThe country has 17 UNESCO World Heritage Sites, 15 of which are cultural.\u001b[0m\n",
      "\u001b[33mPoland is a founding member state of the United Nations, as well as a member of the World Trade Organization, NATO, and the European Union (including the Schengen Area).\u001b[0m\n"
     ]
    }
   ],
   "source": [
    "indexes = summarize(text, 50, stop, 5, 50)\n",
    "\n",
    "i = 0\n",
    "for sent in nltk.sent_tokenize(text):\n",
    "    if i in indexes:\n",
    "        print(colored(sent, 'yellow'))\n",
    "    else:\n",
    "        print(colored(sent, 'black'))\n",
    "    i = i + 1"
   ]
  },
  {
   "cell_type": "code",
   "execution_count": null,
   "id": "e0f59286",
   "metadata": {},
   "outputs": [],
   "source": []
  }
 ],
 "metadata": {
  "kernelspec": {
   "display_name": "Python 3 (ipykernel)",
   "language": "python",
   "name": "python3"
  },
  "language_info": {
   "codemirror_mode": {
    "name": "ipython",
    "version": 3
   },
   "file_extension": ".py",
   "mimetype": "text/x-python",
   "name": "python",
   "nbconvert_exporter": "python",
   "pygments_lexer": "ipython3",
   "version": "3.10.12"
  }
 },
 "nbformat": 4,
 "nbformat_minor": 5
}
